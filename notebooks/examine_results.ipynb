{
 "cells": [
  {
   "cell_type": "code",
   "execution_count": 1,
   "metadata": {
    "collapsed": true,
    "ExecuteTime": {
     "end_time": "2023-10-27T10:14:29.395539Z",
     "start_time": "2023-10-27T10:14:28.050209Z"
    }
   },
   "outputs": [],
   "source": [
    "import numpy as np\n",
    "import matplotlib.pyplot as plt"
   ]
  },
  {
   "cell_type": "code",
   "execution_count": 2,
   "outputs": [],
   "source": [
    "runs = [10, 20, 30]\n",
    "datasets = ['xsub60', 'xview60']\n",
    "accuracy_values = {\n",
    "    'xsub60': [0.85, 0.88, 0.90],  # Replace these with your actual accuracy values\n",
    "    'xview60': [0.78, 0.82, 0.85],  # Replace these with your actual accuracy values\n",
    "}\n",
    "std_dev_values = {\n",
    "    'xsub60': [0.02, 0.03, 0.01],  # Replace these with your actual standard deviation values\n",
    "    'xview60': [0.03, 0.02, 0.01],  # Replace these with your actual standard deviation values\n",
    "}"
   ],
   "metadata": {
    "collapsed": false,
    "ExecuteTime": {
     "end_time": "2023-10-27T10:14:29.399426Z",
     "start_time": "2023-10-27T10:14:29.398393Z"
    }
   }
  },
  {
   "cell_type": "code",
   "execution_count": 21,
   "outputs": [
    {
     "data": {
      "text/plain": "<Figure size 640x480 with 1 Axes>",
      "image/png": "[encoded data removed]"
     },
     "metadata": {},
     "output_type": "display_data"
    }
   ],
   "source": [
    "font = {'fontname': 'Times New Roman'}\n",
    "# Set the style of the plot\n",
    "plt.style.use('ggplot')\n",
    "\n",
    "# Create a list of markers and line styles to distinguish runs\n",
    "markers = ['o', 's', '^']\n",
    "line_styles = ['-', '--', '-.']\n",
    "\n",
    "# Create a figure and axis\n",
    "fig, ax = plt.subplots()\n",
    "\n",
    "# Loop through the datasets\n",
    "for dataset, marker, linestyle in zip(datasets, markers, line_styles):\n",
    "    accuracy = accuracy_values[dataset]\n",
    "    std_dev = std_dev_values[dataset]\n",
    "\n",
    "    # Plot the accuracy values with error bars (std deviation)\n",
    "    ax.errorbar(runs, accuracy, yerr=std_dev, marker=marker, linestyle='', label=dataset)\n",
    "\n",
    "# Set axis labels and a legend\n",
    "ax.set_xlabel('Number of Iterations', **font)\n",
    "ax.set_ylabel('Achieved Top-1 Accuracy in %', **font)\n",
    "ax.set_title('')\n",
    "ax.legend(title='Datasets', prop={'family': 'Times New Roman'})\n",
    "ax.set_xticks(runs)\n",
    "\n",
    "plt.grid()\n",
    "plt.show()"
   ],
   "metadata": {
    "collapsed": false,
    "ExecuteTime": {
     "end_time": "2023-10-27T12:17:08.869246Z",
     "start_time": "2023-10-27T12:17:08.817687Z"
    }
   }
  },
  {
   "cell_type": "code",
   "execution_count": 47,
   "outputs": [
    {
     "name": "stdout",
     "output_type": "stream",
     "text": [
      "Z-Score: 22.800342007695246\n",
      "Critical Z-Score: 1.959963984540054\n",
      "Reject the null hypothesis.\n",
      "There is a significant difference between the online and offline classes.\n",
      "P-Value : 0.0\n",
      "Reject the null hypothesis.\n",
      "There is a significant difference between the data modality.\n"
     ]
    }
   ],
   "source": [
    "# JVB -> JVBA xsub data\n",
    "import numpy as np\n",
    "import scipy.stats as stats\n",
    "\n",
    "\n",
    "# JVB\n",
    "n1 = 1000\n",
    "x1 = 86.8\n",
    "s1 = 1.4\n",
    "\n",
    "# JVBA\n",
    "n2 = 1000\n",
    "x2 = 88\n",
    "s2 = 0.9\n",
    "\n",
    "# Null Hypothesis = mu_1-mu_2 = 0\n",
    "# Hypothesized difference (under the null hypothesis)\n",
    "D = 0\n",
    "\n",
    "# significance level\n",
    "alpha = 0.05\n",
    "\n",
    "# Calculate the test statistic (z-score)\n",
    "z_score = ((x1 - x2) - D) / np.sqrt((s1**2 / n1) + (s2**2 / n2))\n",
    "print('Z-Score:', np.abs(z_score))\n",
    "\n",
    "# Calculate the critical value\n",
    "z_critical = stats.norm.ppf(1 - alpha/2)\n",
    "print('Critical Z-Score:',z_critical)\n",
    "\n",
    "\n",
    "# Compare the test statistic with the critical value\n",
    "if np.abs(z_score) > z_critical:\n",
    "\tprint(\"\"\"Reject the null hypothesis.\n",
    "There is a significant difference between the online and offline classes.\"\"\")\n",
    "else:\n",
    "\tprint(\"\"\"Fail to reject the null hypothesis.\n",
    "There is not enough evidence to suggest a significant difference between the online and offline classes.\"\"\")\n",
    "\n",
    "# Approach 2: Using P-value\n",
    "\n",
    "# P-Value : Probability of getting less than a Z-score\n",
    "p_value = 2 * (1 - stats.norm.cdf(np.abs(z_score)))\n",
    "print('P-Value :',p_value)\n",
    "\n",
    "# Compare the p-value with the significance level\n",
    "if p_value < alpha:\n",
    "\tprint(\"\"\"Reject the null hypothesis.\n",
    "There is a significant difference between the data modality.\"\"\")\n",
    "else:\n",
    "\tprint(\"\"\"Fail to reject the null hypothesis.\n",
    "There is not enough evidence to suggest significant difference between the data modality.\"\"\")\n",
    "\n"
   ],
   "metadata": {
    "collapsed": false,
    "ExecuteTime": {
     "end_time": "2023-11-09T16:19:42.482054Z",
     "start_time": "2023-11-09T16:19:42.477366Z"
    }
   }
  },
  {
   "cell_type": "code",
   "execution_count": 44,
   "outputs": [
    {
     "name": "stdout",
     "output_type": "stream",
     "text": [
      "Z-Score: 44.17410272265112\n",
      "Critical Z-Score: 1.959963984540054\n",
      "Reject the null hypothesis.\n",
      "There is a significant difference between the online and offline classes.\n",
      "P-Value : 0.0\n",
      "Reject the null hypothesis.\n",
      "There is a significant difference between the data modality.\n"
     ]
    }
   ],
   "source": [
    "# JVB -> JVBA xview data\n",
    "import numpy as np\n",
    "import scipy.stats as stats\n",
    "\n",
    "\n",
    "# JVB\n",
    "n1 = 1000\n",
    "x1 = 93.7\n",
    "s1 = 1.1\n",
    "\n",
    "# JVBA\n",
    "n2 = 1000\n",
    "x2 = 95.6\n",
    "s2 = 0.8\n",
    "\n",
    "# Null Hypothesis = mu_1-mu_2 = 0\n",
    "# Hypothesized difference (under the null hypothesis)\n",
    "D = 0\n",
    "\n",
    "# significance level\n",
    "alpha = 0.05\n",
    "\n",
    "# Calculate the test statistic (z-score)\n",
    "z_score = ((x1 - x2) - D) / np.sqrt((s1**2 / n1) + (s2**2 / n2))\n",
    "print('Z-Score:', np.abs(z_score))\n",
    "\n",
    "# Calculate the critical value\n",
    "z_critical = stats.norm.ppf(1 - alpha/2)\n",
    "print('Critical Z-Score:', z_critical)\n",
    "\n",
    "\n",
    "# Compare the test statistic with the critical value\n",
    "if np.abs(z_score) > z_critical:\n",
    "\tprint(\"\"\"Reject the null hypothesis.\n",
    "There is a significant difference between the between the data modality.\"\"\")\n",
    "else:\n",
    "\tprint(\"\"\"Fail to reject the null hypothesis.\n",
    "There is not enough evidence to suggest a significant difference between the data modality.\"\"\")\n",
    "\n",
    "# Approach 2: Using P-value\n",
    "\n",
    "# P-Value : Probability of getting less than a Z-score\n",
    "p_value = 2 * (1 - stats.norm.cdf(np.abs(z_score)))\n",
    "print('P-Value :', p_value)\n",
    "\n",
    "# Compare the p-value with the significance level\n",
    "if p_value < alpha:\n",
    "\tprint(\"\"\"Reject the null hypothesis.\n",
    "There is a significant difference between the data modality.\"\"\")\n",
    "else:\n",
    "\tprint(\"\"\"Fail to reject the null hypothesis.\n",
    "There is not enough evidence to suggest significant difference between the data modality.\"\"\")\n"
   ],
   "metadata": {
    "collapsed": false,
    "ExecuteTime": {
     "end_time": "2023-11-09T16:19:22.873309Z",
     "start_time": "2023-11-09T16:19:22.868112Z"
    }
   }
  },
  {
   "cell_type": "code",
   "execution_count": null,
   "outputs": [],
   "source": [],
   "metadata": {
    "collapsed": false
   }
  }
 ],
 "metadata": {
  "kernelspec": {
   "display_name": "Python 3",
   "language": "python",
   "name": "python3"
  },
  "language_info": {
   "codemirror_mode": {
    "name": "ipython",
    "version": 2
   },
   "file_extension": ".py",
   "mimetype": "text/x-python",
   "name": "python",
   "nbconvert_exporter": "python",
   "pygments_lexer": "ipython2",
   "version": "2.7.6"
  }
 },
 "nbformat": 4,
 "nbformat_minor": 0
}
